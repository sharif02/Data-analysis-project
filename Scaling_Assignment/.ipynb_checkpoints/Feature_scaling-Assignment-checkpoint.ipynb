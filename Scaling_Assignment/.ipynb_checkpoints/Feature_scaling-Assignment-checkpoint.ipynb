{
 "cells": [
  {
   "cell_type": "markdown",
   "id": "3466b3d9",
   "metadata": {},
   "source": [
    "### Read data from income.csv and scale the relevant features using standardization"
   ]
  },
  {
   "cell_type": "code",
   "execution_count": 3,
   "id": "731e019d",
   "metadata": {},
   "outputs": [
    {
     "name": "stdout",
     "output_type": "stream",
     "text": [
      "        Name       Age    Income  Buy\n",
      "0        Rob -1.356055 -0.480684  Yes\n",
      "1    Michael -1.009157 -0.010159   No\n",
      "2      Mohan -1.009157 -0.692421  Yes\n",
      "3     Ismail -1.182606 -0.715947  Yes\n",
      "4       Kory  1.245679  1.401417   No\n",
      "5     Gautam  0.725332  1.519048  Yes\n",
      "6      David  1.072230  1.636679  Yes\n",
      "7     Andrea  0.551883  1.683732   No\n",
      "8       Brad  0.204985  1.542574  Yes\n",
      "9   Angelina  0.031536  0.930891   No\n",
      "10    Donald  0.378434  1.095575   No\n",
      "11       Tom -1.529504 -1.068841   No\n",
      "12    Arnold -1.356055 -0.998262  Yes\n",
      "13     Jared -1.182606 -0.927683   No\n",
      "14     Stark -1.009157 -0.962973   No\n",
      "15    Ranbir -0.488811 -0.880631   No\n",
      "16    Dipika  0.898781 -0.598316  Yes\n",
      "17  Priyanka  1.072230 -0.645368   No\n",
      "18      Nick  1.419128 -0.621842  Yes\n",
      "19      Alia  0.725332 -0.245422   No\n",
      "20       Sid  1.072230 -0.198369  Yes\n",
      "21     Abdul  0.725332 -0.762999   No\n"
     ]
    }
   ],
   "source": [
    "import pandas as pd\n",
    "from sklearn.preprocessing import StandardScaler\n",
    "#read File from inome.csv\n",
    "data = pd.read_csv(\"income.csv\")\n",
    "features = [\"Age\", \"Income\"]\n",
    "\n",
    "data[features] = data[features].apply(pd.to_numeric)\n",
    "scaler = StandardScaler()\n",
    "scaler.fit(data[features])\n",
    "scaled_features = scaler.transform(data[features])\n",
    "data[features] = scaled_features\n",
    "print(data)\n"
   ]
  },
  {
   "cell_type": "code",
   "execution_count": null,
   "id": "e26a68ad",
   "metadata": {},
   "outputs": [],
   "source": []
  }
 ],
 "metadata": {
  "kernelspec": {
   "display_name": "Python 3 (ipykernel)",
   "language": "python",
   "name": "python3"
  },
  "language_info": {
   "codemirror_mode": {
    "name": "ipython",
    "version": 3
   },
   "file_extension": ".py",
   "mimetype": "text/x-python",
   "name": "python",
   "nbconvert_exporter": "python",
   "pygments_lexer": "ipython3",
   "version": "3.11.5"
  }
 },
 "nbformat": 4,
 "nbformat_minor": 5
}
