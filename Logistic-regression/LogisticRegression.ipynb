{
 "cells": [
  {
   "cell_type": "code",
   "execution_count": 1,
   "id": "738bbcd8",
   "metadata": {},
   "outputs": [],
   "source": [
    "import pandas as pd\n",
    "from matplotlib import pyplot as plt"
   ]
  },
  {
   "cell_type": "markdown",
   "id": "fc497ff9",
   "metadata": {},
   "source": [
    "**load the csv**"
   ]
  },
  {
   "cell_type": "code",
   "execution_count": 2,
   "id": "01e83710",
   "metadata": {},
   "outputs": [
    {
     "data": {
      "text/html": [
       "<div>\n",
       "<style scoped>\n",
       "    .dataframe tbody tr th:only-of-type {\n",
       "        vertical-align: middle;\n",
       "    }\n",
       "\n",
       "    .dataframe tbody tr th {\n",
       "        vertical-align: top;\n",
       "    }\n",
       "\n",
       "    .dataframe thead th {\n",
       "        text-align: right;\n",
       "    }\n",
       "</style>\n",
       "<table border=\"1\" class=\"dataframe\">\n",
       "  <thead>\n",
       "    <tr style=\"text-align: right;\">\n",
       "      <th></th>\n",
       "      <th>Pclass</th>\n",
       "      <th>Fare</th>\n",
       "      <th>Survived</th>\n",
       "    </tr>\n",
       "  </thead>\n",
       "  <tbody>\n",
       "    <tr>\n",
       "      <th>0</th>\n",
       "      <td>3</td>\n",
       "      <td>7.2500</td>\n",
       "      <td>0</td>\n",
       "    </tr>\n",
       "    <tr>\n",
       "      <th>1</th>\n",
       "      <td>1</td>\n",
       "      <td>71.2833</td>\n",
       "      <td>1</td>\n",
       "    </tr>\n",
       "    <tr>\n",
       "      <th>2</th>\n",
       "      <td>3</td>\n",
       "      <td>7.9250</td>\n",
       "      <td>1</td>\n",
       "    </tr>\n",
       "    <tr>\n",
       "      <th>3</th>\n",
       "      <td>1</td>\n",
       "      <td>53.1000</td>\n",
       "      <td>1</td>\n",
       "    </tr>\n",
       "    <tr>\n",
       "      <th>4</th>\n",
       "      <td>3</td>\n",
       "      <td>8.0500</td>\n",
       "      <td>0</td>\n",
       "    </tr>\n",
       "    <tr>\n",
       "      <th>...</th>\n",
       "      <td>...</td>\n",
       "      <td>...</td>\n",
       "      <td>...</td>\n",
       "    </tr>\n",
       "    <tr>\n",
       "      <th>1303</th>\n",
       "      <td>3</td>\n",
       "      <td>8.0500</td>\n",
       "      <td>0</td>\n",
       "    </tr>\n",
       "    <tr>\n",
       "      <th>1304</th>\n",
       "      <td>1</td>\n",
       "      <td>108.9000</td>\n",
       "      <td>1</td>\n",
       "    </tr>\n",
       "    <tr>\n",
       "      <th>1305</th>\n",
       "      <td>3</td>\n",
       "      <td>7.2500</td>\n",
       "      <td>0</td>\n",
       "    </tr>\n",
       "    <tr>\n",
       "      <th>1306</th>\n",
       "      <td>3</td>\n",
       "      <td>8.0500</td>\n",
       "      <td>0</td>\n",
       "    </tr>\n",
       "    <tr>\n",
       "      <th>1307</th>\n",
       "      <td>3</td>\n",
       "      <td>22.3583</td>\n",
       "      <td>0</td>\n",
       "    </tr>\n",
       "  </tbody>\n",
       "</table>\n",
       "<p>1308 rows × 3 columns</p>\n",
       "</div>"
      ],
      "text/plain": [
       "      Pclass      Fare  Survived\n",
       "0          3    7.2500         0\n",
       "1          1   71.2833         1\n",
       "2          3    7.9250         1\n",
       "3          1   53.1000         1\n",
       "4          3    8.0500         0\n",
       "...      ...       ...       ...\n",
       "1303       3    8.0500         0\n",
       "1304       1  108.9000         1\n",
       "1305       3    7.2500         0\n",
       "1306       3    8.0500         0\n",
       "1307       3   22.3583         0\n",
       "\n",
       "[1308 rows x 3 columns]"
      ]
     },
     "execution_count": 2,
     "metadata": {},
     "output_type": "execute_result"
    }
   ],
   "source": [
    "data = pd.read_csv('titanic_full.csv')\n",
    "data"
   ]
  },
  {
   "cell_type": "markdown",
   "id": "69405519",
   "metadata": {},
   "source": [
    "**Check the null value**"
   ]
  },
  {
   "cell_type": "code",
   "execution_count": 3,
   "id": "8e7de775",
   "metadata": {},
   "outputs": [
    {
     "name": "stdout",
     "output_type": "stream",
     "text": [
      "Pclass      0\n",
      "Fare        0\n",
      "Survived    0\n",
      "dtype: int64\n"
     ]
    }
   ],
   "source": [
    "#code here\n",
    "null_values = data.isnull().sum()\n",
    "print(null_values)"
   ]
  },
  {
   "cell_type": "markdown",
   "id": "81e88032",
   "metadata": {},
   "source": [
    "**Plot the data**"
   ]
  },
  {
   "cell_type": "code",
   "execution_count": 5,
   "id": "2a059b59",
   "metadata": {},
   "outputs": [
    {
     "data": {
      "image/png": "[encoded data removed]",
      "text/plain": [
       "<Figure size 1000x600 with 1 Axes>"
      ]
     },
     "metadata": {},
     "output_type": "display_data"
    }
   ],
   "source": [
    "#code here\n",
    "plt.figure(figsize=(10, 6))\n",
    "plt.scatter(data['Fare'], data['Pclass'])\n",
    "plt.xlabel('Fare')\n",
    "plt.ylabel('Pclass')\n",
    "plt.title('Fare vs Pclass with Survival Information')\n",
    "plt.show()"
   ]
  },
  {
   "cell_type": "markdown",
   "id": "f300b021",
   "metadata": {},
   "source": [
    "**Separate the Features a target in x and y**"
   ]
  },
  {
   "cell_type": "code",
   "execution_count": 6,
   "id": "f6a31bcf",
   "metadata": {},
   "outputs": [
    {
     "name": "stdout",
     "output_type": "stream",
     "text": [
      "Features (X):\n",
      "      Fare  Pclass\n",
      "0   7.2500       3\n",
      "1  71.2833       1\n",
      "2   7.9250       3\n",
      "3  53.1000       1\n",
      "4   8.0500       3\n",
      "\n",
      "Target (y):\n",
      "0    0\n",
      "1    1\n",
      "2    1\n",
      "3    1\n",
      "4    0\n",
      "Name: Survived, dtype: int64\n"
     ]
    }
   ],
   "source": [
    "X = data[['Fare', 'Pclass']] \n",
    "y = data['Survived'] \n",
    "\n",
    "print(\"Features (X):\")\n",
    "print(X.head())\n",
    "print(\"\\nTarget (y):\")\n",
    "print(y.head())"
   ]
  },
  {
   "cell_type": "markdown",
   "id": "82344ded",
   "metadata": {},
   "source": [
    "**Split the train and test data**"
   ]
  },
  {
   "cell_type": "code",
   "execution_count": 8,
   "id": "43edf2c2",
   "metadata": {},
   "outputs": [
    {
     "name": "stdout",
     "output_type": "stream",
     "text": [
      "X_train shape: (1046, 2)\n",
      "y_train shape: (1046,)\n",
      "X_test shape: (262, 2)\n",
      "y_test shape: (262,)\n"
     ]
    }
   ],
   "source": [
    "#code here\n",
    "from sklearn.model_selection import train_test_split\n",
    "X_train, X_test, y_train, y_test = train_test_split(X, y, test_size=0.2, random_state=42)\n",
    "\n",
    "# Print the shapes of the training and testing sets\n",
    "print(\"X_train shape:\", X_train.shape)\n",
    "print(\"y_train shape:\", y_train.shape)\n",
    "print(\"X_test shape:\", X_test.shape)\n",
    "print(\"y_test shape:\", y_test.shape)"
   ]
  },
  {
   "cell_type": "markdown",
   "id": "416b709d",
   "metadata": {},
   "source": [
    "**Make the model Binary logistic regression model**"
   ]
  },
  {
   "cell_type": "code",
   "execution_count": 9,
   "id": "adccec50",
   "metadata": {},
   "outputs": [
    {
     "name": "stdout",
     "output_type": "stream",
     "text": [
      "Training accuracy: 0.6883365200764818\n"
     ]
    }
   ],
   "source": [
    "#code here\n",
    "from sklearn.linear_model import LogisticRegression\n",
    "\n",
    "logistic_model = LogisticRegression()\n",
    "\n",
    "logistic_model.fit(X_train, y_train)\n",
    "\n",
    "print(\"Training accuracy:\", logistic_model.score(X_train, y_train))\n"
   ]
  },
  {
   "cell_type": "markdown",
   "id": "ce05262c",
   "metadata": {},
   "source": [
    "**Check the model score**"
   ]
  },
  {
   "cell_type": "code",
   "execution_count": 11,
   "id": "4e2dc8fc",
   "metadata": {},
   "outputs": [
    {
     "name": "stdout",
     "output_type": "stream",
     "text": [
      "Test accuracy: 0.6145038167938931\n"
     ]
    }
   ],
   "source": [
    "#code here\n",
    "test_score = logistic_model.score(X_test, y_test)\n",
    "\n",
    "# Print the test score\n",
    "print(\"Test accuracy:\", test_score)\n"
   ]
  },
  {
   "cell_type": "code",
   "execution_count": null,
   "id": "317ebdf7",
   "metadata": {},
   "outputs": [],
   "source": []
  }
 ],
 "metadata": {
  "kernelspec": {
   "display_name": "Python 3 (ipykernel)",
   "language": "python",
   "name": "python3"
  },
  "language_info": {
   "codemirror_mode": {
    "name": "ipython",
    "version": 3
   },
   "file_extension": ".py",
   "mimetype": "text/x-python",
   "name": "python",
   "nbconvert_exporter": "python",
   "pygments_lexer": "ipython3",
   "version": "3.12.7"
  }
 },
 "nbformat": 4,
 "nbformat_minor": 5
}
